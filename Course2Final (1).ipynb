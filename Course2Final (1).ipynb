{
 "cells": [
  {
   "cell_type": "markdown",
   "id": "9b5ae5b9-658c-4196-8684-9174ee0237c4",
   "metadata": {},
   "source": [
    "# My Jupyter Notebook on IBM Watson Studio"
   ]
  },
  {
   "cell_type": "markdown",
   "id": "085cf708-6588-4751-b72c-dd4f0f0de420",
   "metadata": {},
   "source": [
    "**Anyumba Ogendi** <br>\n",
    "Associate Data Scientist"
   ]
  },
  {
   "cell_type": "markdown",
   "id": "1f152417-bdb2-4cb6-ab4d-59419279d1e2",
   "metadata": {},
   "source": [
    "*I am interested in data science because I want to build on my analytical background in freelancing, probably find formal employment*"
   ]
  },
  {
   "cell_type": "markdown",
   "id": "08f3c9ab-3ccc-41cf-ac2b-0f9af5d9c1aa",
   "metadata": {},
   "source": [
    "### The code in the next cell computes the product of two random numbers between 1 and 10"
   ]
  },
  {
   "cell_type": "code",
   "execution_count": 1,
   "id": "62e96381-8216-4c34-ae95-c2e28c56a3ed",
   "metadata": {},
   "outputs": [
    {
     "name": "stdout",
     "output_type": "stream",
     "text": [
      "5 + 10 = 15\n"
     ]
    }
   ],
   "source": [
    "import random\n",
    "a = random.randint(1, 11)\n",
    "b = random.randint(1, 11)\n",
    "print(a, \"+\", b, \"=\", a+b)"
   ]
  },
  {
   "cell_type": "markdown",
   "id": "03b95c4d-136c-45a5-bbc1-8ccebee9b6a1",
   "metadata": {},
   "source": [
    "The cell below does 4 things: (1) Bulleted list (2) horizontal line (3) ordered/numbered list (4) hyperlink"
   ]
  },
  {
   "cell_type": "markdown",
   "id": "a6caacc3-8e33-44a7-9baa-592a729ff92e",
   "metadata": {},
   "source": [
    "Different job roles in data science:\n",
    "* Data scientist\n",
    "* Data analyst\n",
    "* Data engineer\n",
    "* Business Intelligence (BI) analyst\n",
    "* Database engineer\n",
    "***\n",
    "The 5 V's of data:\n",
    "1. Velocity - speed of accumlating or processing data\n",
    "1. Volume - scale or quantity of data\n",
    "1. Veracity - quality and origin of data\n",
    "1. Value - ability to turn data into value\n",
    "1. Variety - diversity of data, different sources of data\n",
    "***\n",
    "IBM Jupyter Notebook cheatsheet can be found __[here](https://www.ibm.com/docs/en/watson-studio-local/1.2.3?topic=notebooks-markdown-jupyter-cheatsheet)__"
   ]
  },
  {
   "cell_type": "code",
   "execution_count": null,
   "id": "192de00d-12f5-42c8-90b1-8b9b02012b15",
   "metadata": {},
   "outputs": [],
   "source": []
  }
 ],
 "metadata": {
  "kernelspec": {
   "display_name": "Python",
   "language": "python",
   "name": "conda-env-python-py"
  },
  "language_info": {
   "codemirror_mode": {
    "name": "ipython",
    "version": 3
   },
   "file_extension": ".py",
   "mimetype": "text/x-python",
   "name": "python",
   "nbconvert_exporter": "python",
   "pygments_lexer": "ipython3",
   "version": "3.7.12"
  }
 },
 "nbformat": 4,
 "nbformat_minor": 5
}
